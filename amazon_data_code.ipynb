{
 "cells": [
  {
   "cell_type": "code",
   "execution_count": null,
   "id": "38d946d5-2ac0-47c3-9703-5b567768a90a",
   "metadata": {},
   "outputs": [],
   "source": []
  },
  {
   "cell_type": "code",
   "execution_count": 3,
   "id": "66c7319f-b05c-4374-b5e4-d9559115facd",
   "metadata": {},
   "outputs": [
    {
     "name": "stdout",
     "output_type": "stream",
     "text": [
      "Requirement already satisfied: selenium in c:\\users\\prana\\appdata\\local\\programs\\python\\python311\\lib\\site-packages (4.10.0)\n",
      "Requirement already satisfied: urllib3[socks]<3,>=1.26 in c:\\users\\prana\\appdata\\local\\programs\\python\\python311\\lib\\site-packages (from selenium) (2.0.4)\n",
      "Requirement already satisfied: trio~=0.17 in c:\\users\\prana\\appdata\\local\\programs\\python\\python311\\lib\\site-packages (from selenium) (0.22.2)\n",
      "Requirement already satisfied: trio-websocket~=0.9 in c:\\users\\prana\\appdata\\local\\programs\\python\\python311\\lib\\site-packages (from selenium) (0.10.3)\n",
      "Requirement already satisfied: certifi>=2021.10.8 in c:\\users\\prana\\appdata\\local\\programs\\python\\python311\\lib\\site-packages (from selenium) (2023.5.7)\n",
      "Requirement already satisfied: attrs>=20.1.0 in c:\\users\\prana\\appdata\\local\\programs\\python\\python311\\lib\\site-packages (from trio~=0.17->selenium) (23.1.0)\n",
      "Requirement already satisfied: sortedcontainers in c:\\users\\prana\\appdata\\local\\programs\\python\\python311\\lib\\site-packages (from trio~=0.17->selenium) (2.4.0)\n",
      "Requirement already satisfied: idna in c:\\users\\prana\\appdata\\local\\programs\\python\\python311\\lib\\site-packages (from trio~=0.17->selenium) (3.4)\n",
      "Requirement already satisfied: outcome in c:\\users\\prana\\appdata\\local\\programs\\python\\python311\\lib\\site-packages (from trio~=0.17->selenium) (1.2.0)\n",
      "Requirement already satisfied: sniffio in c:\\users\\prana\\appdata\\local\\programs\\python\\python311\\lib\\site-packages (from trio~=0.17->selenium) (1.3.0)\n",
      "Requirement already satisfied: cffi>=1.14 in c:\\users\\prana\\appdata\\local\\programs\\python\\python311\\lib\\site-packages (from trio~=0.17->selenium) (1.15.1)\n",
      "Requirement already satisfied: exceptiongroup in c:\\users\\prana\\appdata\\local\\programs\\python\\python311\\lib\\site-packages (from trio-websocket~=0.9->selenium) (1.1.2)\n",
      "Requirement already satisfied: wsproto>=0.14 in c:\\users\\prana\\appdata\\local\\programs\\python\\python311\\lib\\site-packages (from trio-websocket~=0.9->selenium) (1.2.0)\n",
      "Requirement already satisfied: pysocks!=1.5.7,<2.0,>=1.5.6 in c:\\users\\prana\\appdata\\local\\programs\\python\\python311\\lib\\site-packages (from urllib3[socks]<3,>=1.26->selenium) (1.7.1)\n",
      "Requirement already satisfied: pycparser in c:\\users\\prana\\appdata\\local\\programs\\python\\python311\\lib\\site-packages (from cffi>=1.14->trio~=0.17->selenium) (2.21)\n",
      "Requirement already satisfied: h11<1,>=0.9.0 in c:\\users\\prana\\appdata\\local\\programs\\python\\python311\\lib\\site-packages (from wsproto>=0.14->trio-websocket~=0.9->selenium) (0.14.0)\n",
      "Note: you may need to restart the kernel to use updated packages.\n"
     ]
    }
   ],
   "source": [
    "pip install selenium"
   ]
  },
  {
   "cell_type": "code",
   "execution_count": 16,
   "id": "7593ed6b-deef-4a88-a6b2-3a7193a8674b",
   "metadata": {},
   "outputs": [
    {
     "name": "stdout",
     "output_type": "stream",
     "text": [
      "Scraped 426 products from 20 pages.\n"
     ]
    }
   ],
   "source": [
    "import requests\n",
    "from bs4 import BeautifulSoup\n",
    "import csv\n",
    "\n",
    "def scrape_amazon_products(url, num_pages):\n",
    "    headers = {\n",
    "        \"User-Agent\": \"Mozilla/5.0 (Windows NT 10.0; Win64; x64) AppleWebKit/537.36 (KHTML, like Gecko) Chrome/91.0.4472.124 Safari/537.36\"\n",
    "    }\n",
    "\n",
    "    product_data = []\n",
    "\n",
    "    for page in range(1, num_pages + 1):\n",
    "        page_url = f\"{url}&page={page}\"\n",
    "        response = requests.get(page_url, headers=headers)\n",
    "        soup = BeautifulSoup(response.content, \"html.parser\")\n",
    "\n",
    "        products = soup.find_all(\"div\", {\"data-component-type\": \"s-search-result\"})\n",
    "\n",
    "        if not products:\n",
    "            print(f\"No product containers found on page {page}. Exiting scraping.\")\n",
    "            break\n",
    "\n",
    "        for product in products:\n",
    "            product_url_element = product.find(\"a\", {\"class\": \"a-link-normal\"})\n",
    "            product_url = \"https://www.amazon.in\" + product_url_element['href'] if product_url_element else \"N/A\"\n",
    "\n",
    "            product_name_element = product.find(\"span\", {\"class\": \"a-size-medium a-color-base a-text-normal\"})\n",
    "            product_name = product_name_element.text.strip() if product_name_element else \"N/A\"\n",
    "\n",
    "            product_price_element = product.find(\"span\", {\"class\": \"a-offscreen\"})\n",
    "            product_price = product_price_element.text.strip() if product_price_element else \"N/A\"\n",
    "\n",
    "            rating_element = product.find(\"span\", {\"class\": \"a-icon-alt\"})\n",
    "            product_rating = rating_element.text.split()[0] if rating_element else \"N/A\"\n",
    "\n",
    "            reviews_element = product.find(\"span\", {\"class\": \"a-size-base\"})\n",
    "            product_reviews = reviews_element.text.split()[0] if reviews_element else \"0\"\n",
    "\n",
    "            product_data.append({\n",
    "                \"Product URL\": product_url,\n",
    "                \"Product Name\": product_name,\n",
    "                \"Product Price\": product_price,\n",
    "                \"Rating\": product_rating,\n",
    "                \"Number of Reviews\": product_reviews\n",
    "            })\n",
    "\n",
    "    return product_data\n",
    "\n",
    "def export_to_csv(data, filename):\n",
    "    with open(filename, mode=\"w\", newline=\"\", encoding=\"utf-8\") as csvfile:\n",
    "        fieldnames = [\"Product URL\", \"Product Name\", \"Product Price\", \"Rating\", \"Number of Reviews\"]\n",
    "        writer = csv.DictWriter(csvfile, fieldnames=fieldnames)\n",
    "\n",
    "        writer.writeheader()\n",
    "        for item in data:\n",
    "            writer.writerow(item)\n",
    "\n",
    "amazon_url = \"https://www.amazon.in/s?k=bags&crid=2M096C61O4MLT&qid=1653308124&sprefix=ba%2Caps%2C283&ref=sr_pg_1\"\n",
    "num_pages_to_scrape = 20\n",
    "\n",
    "scraped_products = scrape_amazon_products(amazon_url, num_pages=num_pages_to_scrape)\n",
    "\n",
    "# Check the number of products scraped\n",
    "print(f\"Scraped {len(scraped_products)} products from {num_pages_to_scrape} pages.\")\n",
    "\n",
    "# Export the data to a CSV file\n",
    "export_to_csv(scraped_products, \"amazon_products.csv\")\n"
   ]
  },
  {
   "cell_type": "code",
   "execution_count": null,
   "id": "c7d93272-bd38-4892-8356-b2bbf70c7c64",
   "metadata": {},
   "outputs": [],
   "source": []
  }
 ],
 "metadata": {
  "kernelspec": {
   "display_name": "Python 3 (ipykernel)",
   "language": "python",
   "name": "python3"
  },
  "language_info": {
   "codemirror_mode": {
    "name": "ipython",
    "version": 3
   },
   "file_extension": ".py",
   "mimetype": "text/x-python",
   "name": "python",
   "nbconvert_exporter": "python",
   "pygments_lexer": "ipython3",
   "version": "3.11.4"
  }
 },
 "nbformat": 4,
 "nbformat_minor": 5
}
